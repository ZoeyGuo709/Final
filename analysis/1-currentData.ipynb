{
 "cells": [
  {
   "cell_type": "markdown",
   "id": "8d57ceb8-423f-4b70-9914-8826a01d1365",
   "metadata": {},
   "source": [
    "---\n",
    "format: \n",
    "  html:\n",
    "    toc: true\n",
    "execute:\n",
    "  echo: true\n",
    "---"
   ]
  },
  {
   "cell_type": "markdown",
   "id": "3fa76e04-679f-4edc-a7ea-437dd749e986",
   "metadata": {},
   "source": [
    "# Explore the Universal Thermal Climate Index (UTCI) data of Philadelphia\n",
    "\n",
    "The study area is Philadelphia, Pennsylvania, USA, a major urban center with diverse urban characteristics. Philadelphia is the sixth-most populous city in the U.S. and is known for its dense urban layout, historical architecture, and significant variation in neighborhood demographics and infrastructure. The city comprises 408 census tracts, which serve as fundamental spatial units for analyzing urban environmental variables. \n",
    "\n",
    "The Universal Thermal Climate Index (UTCI) is a comprehensive metric used to assess outdoor thermal comfort and human heat stress under varying climatic conditions. Unlike simple temperature measures, UTCI integrates air temperature, humidity, wind speed, and radiant heat to evaluate the perceived temperature's impact on the human body. Widely applied in urban planning, climate studies, and public health, UTCI provides a standardized and globally applicable framework for understanding how environmental factors influence human thermal comfort and well-being."
   ]
  },
  {
   "cell_type": "markdown",
   "id": "379ce555",
   "metadata": {},
   "source": [
    "1. **Show the UTCI data map of Philadelphia** <br>\n",
    "The spatio-temporal distribution of the UTCI from 8 a.m. to 7 p.m. in Philadelphia reveals significant diurnal variations in heat stress across the city. UTCI values begin relatively low in the early morning at 8 a.m., with values ranging from approximately [27.9]∘ C to [33.4]∘ C. As the day progresses, UTCI values steadily increase, peaking around midday and early afternoon (12 p.m. to 3 p.m.), reaching maximum levels between [37.0]∘ C and [38.9]∘ C. During these peak hours, large portions of the city experience heightened heat stress, especially in areas with vacant land and less vegetation in Northeast Philadelphia. By late afternoon (4 p.m. onward), UTCI values begin to decrease gradually, with noticeable reductions in heat stress by 6 p.m. and continuing into the evening hours. At 7 p.m., the UTCI drops to values between [26.3]∘ C and [30.6]∘ C, reflecting the cooling effect as solar radiation diminishes. This temporal pattern demonstrates the peak heat exposure period in the early afternoon and emphasizes the importance of targeted interventions during these high-risk hours to mitigate heat stress impacts in vulnerable urban areas\n",
    "\n",
    "![Fig 1. Analysis of UTCI data in Philadelphia](../images/ST_DISTRIBUTION.jpg)"
   ]
  },
  {
   "cell_type": "markdown",
   "id": "003888f8",
   "metadata": {},
   "source": [
    "2. **Show the Bus Stop data map of Philadelphia** <br>\n",
    "Philadelphia's public transit system, operated by the Southeastern Pennsylvania Transportation Authority (SEPTA), includes 145 bus routes and 8,126 bus stops across the city, providing extensive coverage and accessibility for residents. This extensive network of bus stops presents an ideal context for studying heat stress at the transit micro-level. Philadelphia’s spatial diversity offers a robust basis for examining the relationship between heat stress around bus stops and the surrounding environment, providing insights into equitable urban planning and transit policy\n",
    "\n",
    "![Fig 2. Bus Stops in Philadephia](../images/BusStops.png)"
   ]
  },
  {
   "cell_type": "markdown",
   "id": "935af487",
   "metadata": {},
   "source": [
    "3. **Show the Bus Stop heat stress map of Philadelphia** <br>\n",
    "First, We want to explore \n",
    "\n",
    "![Fig 2. Average Temperature by Time](../images/AvgTempByTime.png)\n",
    "\n",
    "in each time frame, the highest and lowest temperated stop: (Interactive Map)"
   ]
  },
  {
   "cell_type": "markdown",
   "id": "0d92b5ed",
   "metadata": {},
   "source": [
    "4. Explore 1: in each time frame, which is the highest-temp bus stop and which is the lowest temp.\n",
    "5. Explore 2: which bus stop has the highest avg temp."
   ]
  }
 ],
 "metadata": {
  "kernelspec": {
   "display_name": "musa-550-fall-2023",
   "language": "python",
   "name": "python3"
  },
  "language_info": {
   "codemirror_mode": {
    "name": "ipython",
    "version": 3
   },
   "file_extension": ".py",
   "mimetype": "text/x-python",
   "name": "python",
   "nbconvert_exporter": "python",
   "pygments_lexer": "ipython3",
   "version": "3.10.12"
  }
 },
 "nbformat": 4,
 "nbformat_minor": 5
}
