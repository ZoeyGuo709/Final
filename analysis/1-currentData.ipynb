{
 "cells": [
  {
   "cell_type": "markdown",
   "id": "8d57ceb8-423f-4b70-9914-8826a01d1365",
   "metadata": {},
   "source": [
    "---\n",
    "format: \n",
    "  html:\n",
    "    toc: true\n",
    "execute:\n",
    "  echo: true\n",
    "---"
   ]
  },
  {
   "cell_type": "markdown",
   "id": "3fa76e04-679f-4edc-a7ea-437dd749e986",
   "metadata": {},
   "source": [
    "# Explore the UTCI data of Philadelphia\n",
    "\n",
    "The study area is Philadelphia, Pennsylvania, USA, a major urban center with diverse urban characteristics. Philadelphia is the sixth-most populous city in the U.S. and is known for its dense urban layout, historical architecture, and significant variation in neighborhood demographics and infrastructure. The city comprises 408 census tracts, which serve as fundamental spatial units for analyzing urban environmental variables. \n",
    "\n",
    "1. **Show the UTCI data map of Philadelphia** <br>\n",
    "The spatio-temporal distribution of the UTCI from 8 a.m. to 7 p.m. in Philadelphia reveals significant diurnal variations in heat stress across the city. UTCI values begin relatively low in the early morning at 8 a.m., with values ranging from approximately [27.9]^∘ C to [33.4]^∘ C. As the day progresses, UTCI values steadily increase, peaking around midday and early afternoon (12 p.m. to 3 p.m.), reaching maximum levels between [37.0]^∘ C and [38.9]^∘ C. During these peak hours, large portions of the city experience heightened heat stress, especially in areas with vacant land and less vegetation in Northeast Philadelphia. By late afternoon (4 p.m. onward), UTCI values begin to decrease gradually, with noticeable reductions in heat stress by 6 p.m. and continuing into the evening hours. At 7 p.m., the UTCI drops to values between [26.3]^∘ C and [30.6]^∘ C, reflecting the cooling effect as solar radiation diminishes. This temporal pattern demonstrates the peak heat exposure period in the early afternoon and emphasizes the importance of targeted interventions during these high-risk hours to mitigate heat stress impacts in vulnerable urban areas\n",
    "\n",
    "![Fig 1. Analysis of UTCI data in Philadelphia](../images/Distribution_Heat.jpg)\n",
    "\n",
    "\n",
    "2. **Show the Bus Stop data map of Philadelphia** <br>\n",
    "Philadelphia's public transit system, operated by the Southeastern Pennsylvania Transportation Authority (SEPTA), includes 145 bus routes and 8,126 bus stops across the city, providing extensive coverage and accessibility for residents. This extensive network of bus stops presents an ideal context for studying heat stress at the transit micro-level. Philadelphia’s spatial diversity offers a robust basis for examining the relationship between heat stress around bus stops and the surrounding environment, providing insights into equitable urban planning and transit policy\n",
    "\n",
    "![Fig 2. Bus Stops in Philadephia](../images/Distribution_BusStop.jpg)\n",
    "\n",
    "\n",
    "3. **Show the Bus Stop heat stress map of Philadelphia** <br>\n",
    "The hyperlocal level heat stress results provide a detailed analysis of heat stress distribution within a 3-meter buffer around bus stops in Philadelphia. This narrow buffer zone offers insights into heat exposure directly experienced by transit users at each stop. Fig. 3 illustrates the UTCI distribution around bus stops across three different times of the day—morning, midday, and evening. In the morning (Fig. 3a), UTCI values range from approximately 28°C to 32°C, indicating moderate heat stress, though some areas show slightly elevated values. By midday (Fig. 3b), UTCI levels increase significantly, reaching peak values between 34°C and 38°C. This peak corresponds with maximum solar radiation and heat retention in the built environment. In the evening peak (Fig. 3c), UTCI values generally decrease, especially in central areas where retained heat is less pronounced, as these locations benefit from the shading effects of tall buildings.\n",
    "\n",
    "![Fig 3. Bus Stops heat stress in Philadephia in a day](../images/Distribution_Heat_Stops.jpg)\n",
    "\n",
    "The bar chart (Fig. 4) further highlights the hourly variation of UTCI values exceeding 32°C within these hyperlocal buffer zones throughout the day. At 8 a.m., 66.12% of bus stops meet or exceed this threshold, and this proportion increases steadily through the morning. By 11 a.m., over 99% exceed 32°C, with this high level of heat stress persisting until approximately 3 p.m. After this peak, the proportion gradually declines, with 80.53% still above the threshold at 6 p.m., finally dropping to 0% by 7 p.m.\n",
    "Through these two figures, we provide a comprehensive view of spatio-temporal heat stress dynamics at a hyperlocal level around bus stops, identifying midday and early afternoon as critical periods of high exposure. These insights underscore the need for targeted heat mitigation strategies, such as shaded shelters and cooling infrastructure, to protect transit users, particularly during peak heat hours.\n",
    "\n",
    "![Fig 4. The hourly proportion variation of strong heat stress bus stops](../images/BarChart_hourlystress.jpg)\n",
    "\n",
    "\n",
    "4. Explore 1: in each time frame, which is the highest-temp bus stop and which is the lowest temp.\n",
    "5. Explore 2: which bus stop has the highest avg temp."
   ]
  }
 ],
 "metadata": {
  "kernelspec": {
   "display_name": "musa-550-fall-2023",
   "language": "python",
   "name": "python3"
  },
  "language_info": {
   "codemirror_mode": {
    "name": "ipython",
    "version": 3
   },
   "file_extension": ".py",
   "mimetype": "text/x-python",
   "name": "python",
   "nbconvert_exporter": "python",
   "pygments_lexer": "ipython3",
   "version": "3.10.12"
  }
 },
 "nbformat": 4,
 "nbformat_minor": 5
}
