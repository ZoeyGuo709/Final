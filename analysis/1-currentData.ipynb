{
 "cells": [
  {
   "cell_type": "markdown",
   "id": "8d57ceb8-423f-4b70-9914-8826a01d1365",
   "metadata": {},
   "source": [
    "---\n",
    "format: \n",
    "  html:\n",
    "    toc: true\n",
    "execute:\n",
    "  echo: true\n",
    "---"
   ]
  },
  {
   "cell_type": "markdown",
   "id": "3fa76e04-679f-4edc-a7ea-437dd749e986",
   "metadata": {},
   "source": [
    "# Explore the Universal Thermal Climate Index (UTCI) data of Philadelphia\n",
    "\n",
    "The study area is Philadelphia, Pennsylvania, USA, a major urban center with diverse urban characteristics. Philadelphia is the sixth-most populous city in the U.S. and is known for its dense urban layout, historical architecture, and significant variation in neighborhood demographics and infrastructure. The city comprises 408 census tracts, which serve as fundamental spatial units for analyzing urban environmental variables. \n",
    "\n",
    "The Universal Thermal Climate Index (UTCI) is a comprehensive metric used to assess outdoor thermal comfort and human heat stress under varying climatic conditions. Unlike simple temperature measures, UTCI integrates air temperature, humidity, wind speed, and radiant heat to evaluate the perceived temperature's impact on the human body. Widely applied in urban planning, climate studies, and public health, UTCI provides a standardized and globally applicable framework for understanding how environmental factors influence human thermal comfort and well-being."
   ]
  },
  {
   "cell_type": "markdown",
   "id": "379ce555",
   "metadata": {},
   "source": [
    "1. **Universal Thermal Climate Index （UTCI） Distribution in Philadelphia** <br>\n",
    "The spatio-temporal distribution of the UTCI from 8 a.m. to 7 p.m. in Philadelphia reveals significant diurnal variations in heat stress across the city. UTCI values begin relatively low in the early morning at 8 a.m., with values ranging from approximately [27.9]°C to [33.4]°C. As the day progresses, UTCI values steadily increase, peaking around midday and early afternoon (12 p.m. to 3 p.m.), reaching maximum levels between [37.0]°C and [38.9]°C. During these peak hours, large portions of the city experience heightened heat stress, especially in areas with vacant land and less vegetation in Northeast Philadelphia. By late afternoon (4 p.m. onward), UTCI values begin to decrease gradually, with noticeable reductions in heat stress by 6 p.m. and continuing into the evening hours. At 7 p.m., the UTCI drops to values between [26.3]°C and [30.6]°C, reflecting the cooling effect as solar radiation diminishes. This temporal pattern demonstrates the peak heat exposure period in the early afternoon and emphasizes the importance of targeted interventions during these high-risk hours to mitigate heat stress impacts in vulnerable urban areas\n",
    "\n",
    "![Fig 1. UTCI data in Philadelphia](../images/ST_DISTRIBUTION.jpg)"
   ]
  },
  {
   "cell_type": "markdown",
   "id": "003888f8",
   "metadata": {},
   "source": [
    "2. **Bus Stops in Philadelphia** <br>\n",
    "Philadelphia's public transit system, operated by the Southeastern Pennsylvania Transportation Authority (SEPTA), includes 145 bus routes and 8,126 bus stops across the city, providing extensive coverage and accessibility for residents. This extensive network of bus stops presents an ideal context for studying heat stress at the transit micro-level. Philadelphia’s spatial diversity offers a robust basis for examining the relationship between heat stress around bus stops and the surrounding environment, providing insights into equitable urban planning and transit policy\n",
    "\n",
    "![Fig 2. Bus Stops in Philadephia](../images/BusStops.png)"
   ]
  },
  {
   "cell_type": "markdown",
   "id": "935af487",
   "metadata": {},
   "source": [
    "3. **Bus Stop Heat Stress in Philadelphia** <br>\n",
    "To analyze the average temperature of bus stops across different time frames, we observe from Figure 3 that the temperature starts to rise steadily between 8:00 AM and 1:00 PM, eventually reaching a plateau around 1:00 PM. From 1:00 PM to 6:00 PM, the temperature gradually declines at a slow and consistent rate. However, after 6:00 PM, the temperature drops sharply, falling below 30°C by 7:00 PM, marking a significant decrease in overall temperature across all bus stops.\n",
    "\n",
    "![Fig 3. All Bus Stops' Average Temperature by Time](../images/AvgTempByTime.png)\n",
    "\n",
    "In each time frame, the bus stop with the highest and lowest temperature is identified as Table 1 shown below:\n"
   ]
  },
  {
   "cell_type": "code",
   "execution_count": 8,
   "id": "90a020f3",
   "metadata": {},
   "outputs": [
    {
     "name": "stderr",
     "output_type": "stream",
     "text": [
      "C:\\Users\\25077\\AppData\\Local\\Temp\\ipykernel_2336\\4242756400.py:6: FutureWarning: this method is deprecated in favour of `Styler.hide(axis=\"index\")`\n",
      "  display(extreme_temps_df.style.set_caption(\"Table 1. Highest and Lowest Temperatures for Each Time Frame\").hide_index())\n"
     ]
    },
    {
     "data": {
      "text/html": [
       "<style type=\"text/css\">\n",
       "</style>\n",
       "<table id=\"T_1816c\">\n",
       "  <caption>Table 1. Highest and Lowest Temperatures for Each Time Frame</caption>\n",
       "  <thead>\n",
       "    <tr>\n",
       "      <th id=\"T_1816c_level0_col0\" class=\"col_heading level0 col0\" >Time Frame</th>\n",
       "      <th id=\"T_1816c_level0_col1\" class=\"col_heading level0 col1\" >Max Temp (°C)</th>\n",
       "      <th id=\"T_1816c_level0_col2\" class=\"col_heading level0 col2\" >Stop with Max Temp</th>\n",
       "      <th id=\"T_1816c_level0_col3\" class=\"col_heading level0 col3\" >Min Temp (°C)</th>\n",
       "      <th id=\"T_1816c_level0_col4\" class=\"col_heading level0 col4\" >Stop with Min Temp</th>\n",
       "    </tr>\n",
       "  </thead>\n",
       "  <tbody>\n",
       "    <tr>\n",
       "      <td id=\"T_1816c_row0_col0\" class=\"data row0 col0\" >8:00</td>\n",
       "      <td id=\"T_1816c_row0_col1\" class=\"data row0 col1\" >33.157532</td>\n",
       "      <td id=\"T_1816c_row0_col2\" class=\"data row0 col2\" >Lancaster Av & Bible Way</td>\n",
       "      <td id=\"T_1816c_row0_col3\" class=\"data row0 col3\" >28.041004</td>\n",
       "      <td id=\"T_1816c_row0_col4\" class=\"data row0 col4\" >Wayne Av & Johnson St</td>\n",
       "    </tr>\n",
       "    <tr>\n",
       "      <td id=\"T_1816c_row1_col0\" class=\"data row1 col0\" >9:00</td>\n",
       "      <td id=\"T_1816c_row1_col1\" class=\"data row1 col1\" >35.673363</td>\n",
       "      <td id=\"T_1816c_row1_col2\" class=\"data row1 col2\" >60th St Station - MFL</td>\n",
       "      <td id=\"T_1816c_row1_col3\" class=\"data row1 col3\" >29.555286</td>\n",
       "      <td id=\"T_1816c_row1_col4\" class=\"data row1 col4\" >60th St & Media St</td>\n",
       "    </tr>\n",
       "    <tr>\n",
       "      <td id=\"T_1816c_row2_col0\" class=\"data row2 col0\" >10:00</td>\n",
       "      <td id=\"T_1816c_row2_col1\" class=\"data row2 col1\" >36.903307</td>\n",
       "      <td id=\"T_1816c_row2_col2\" class=\"data row2 col2\" >Lancaster Av & Bible Way</td>\n",
       "      <td id=\"T_1816c_row2_col3\" class=\"data row2 col3\" >30.945198</td>\n",
       "      <td id=\"T_1816c_row2_col4\" class=\"data row2 col4\" >11th St & Godfrey Av</td>\n",
       "    </tr>\n",
       "    <tr>\n",
       "      <td id=\"T_1816c_row3_col0\" class=\"data row3 col0\" >11:00</td>\n",
       "      <td id=\"T_1816c_row3_col1\" class=\"data row3 col1\" >37.777462</td>\n",
       "      <td id=\"T_1816c_row3_col2\" class=\"data row3 col2\" >Columbia Av & Delaware Av</td>\n",
       "      <td id=\"T_1816c_row3_col3\" class=\"data row3 col3\" >31.842836</td>\n",
       "      <td id=\"T_1816c_row3_col4\" class=\"data row3 col4\" >11th St & Godfrey Av</td>\n",
       "    </tr>\n",
       "    <tr>\n",
       "      <td id=\"T_1816c_row4_col0\" class=\"data row4 col0\" >12:00</td>\n",
       "      <td id=\"T_1816c_row4_col1\" class=\"data row4 col1\" >38.249495</td>\n",
       "      <td id=\"T_1816c_row4_col2\" class=\"data row4 col2\" >Hunting Park Av & Front St</td>\n",
       "      <td id=\"T_1816c_row4_col3\" class=\"data row4 col3\" >32.281161</td>\n",
       "      <td id=\"T_1816c_row4_col4\" class=\"data row4 col4\" >11th St & Godfrey Av</td>\n",
       "    </tr>\n",
       "    <tr>\n",
       "      <td id=\"T_1816c_row5_col0\" class=\"data row5 col0\" >13:00</td>\n",
       "      <td id=\"T_1816c_row5_col1\" class=\"data row5 col1\" >38.254392</td>\n",
       "      <td id=\"T_1816c_row5_col2\" class=\"data row5 col2\" >Hunting Park Av & Front St</td>\n",
       "      <td id=\"T_1816c_row5_col3\" class=\"data row5 col3\" >32.465799</td>\n",
       "      <td id=\"T_1816c_row5_col4\" class=\"data row5 col4\" >11th St & Godfrey Av</td>\n",
       "    </tr>\n",
       "    <tr>\n",
       "      <td id=\"T_1816c_row6_col0\" class=\"data row6 col0\" >14:00</td>\n",
       "      <td id=\"T_1816c_row6_col1\" class=\"data row6 col1\" >38.213178</td>\n",
       "      <td id=\"T_1816c_row6_col2\" class=\"data row6 col2\" >Wayne Av & Clarissa St</td>\n",
       "      <td id=\"T_1816c_row6_col3\" class=\"data row6 col3\" >32.309602</td>\n",
       "      <td id=\"T_1816c_row6_col4\" class=\"data row6 col4\" >Walnut St & 5th St - FS</td>\n",
       "    </tr>\n",
       "    <tr>\n",
       "      <td id=\"T_1816c_row7_col0\" class=\"data row7 col0\" >15:00</td>\n",
       "      <td id=\"T_1816c_row7_col1\" class=\"data row7 col1\" >38.224674</td>\n",
       "      <td id=\"T_1816c_row7_col2\" class=\"data row7 col2\" >Wayne Av & Clarissa St</td>\n",
       "      <td id=\"T_1816c_row7_col3\" class=\"data row7 col3\" >31.853688</td>\n",
       "      <td id=\"T_1816c_row7_col4\" class=\"data row7 col4\" >Walnut St & 5th St - FS</td>\n",
       "    </tr>\n",
       "    <tr>\n",
       "      <td id=\"T_1816c_row8_col0\" class=\"data row8 col0\" >16:00</td>\n",
       "      <td id=\"T_1816c_row8_col1\" class=\"data row8 col1\" >37.364624</td>\n",
       "      <td id=\"T_1816c_row8_col2\" class=\"data row8 col2\" >Wayne Av & Clarissa St</td>\n",
       "      <td id=\"T_1816c_row8_col3\" class=\"data row8 col3\" >31.272664</td>\n",
       "      <td id=\"T_1816c_row8_col4\" class=\"data row8 col4\" >Walnut St & 5th St - FS</td>\n",
       "    </tr>\n",
       "    <tr>\n",
       "      <td id=\"T_1816c_row9_col0\" class=\"data row9 col0\" >17:00</td>\n",
       "      <td id=\"T_1816c_row9_col1\" class=\"data row9 col1\" >36.124757</td>\n",
       "      <td id=\"T_1816c_row9_col2\" class=\"data row9 col2\" >Wayne Av & Clarissa St</td>\n",
       "      <td id=\"T_1816c_row9_col3\" class=\"data row9 col3\" >30.130579</td>\n",
       "      <td id=\"T_1816c_row9_col4\" class=\"data row9 col4\" >Bustleton Av & Van Kirk St</td>\n",
       "    </tr>\n",
       "    <tr>\n",
       "      <td id=\"T_1816c_row10_col0\" class=\"data row10 col0\" >18:00</td>\n",
       "      <td id=\"T_1816c_row10_col1\" class=\"data row10 col1\" >36.123368</td>\n",
       "      <td id=\"T_1816c_row10_col2\" class=\"data row10 col2\" >17th St & Arch St</td>\n",
       "      <td id=\"T_1816c_row10_col3\" class=\"data row10 col3\" >28.865079</td>\n",
       "      <td id=\"T_1816c_row10_col4\" class=\"data row10 col4\" >8th St & Cecil B Moore Av - FS</td>\n",
       "    </tr>\n",
       "    <tr>\n",
       "      <td id=\"T_1816c_row11_col0\" class=\"data row11 col0\" >19:00</td>\n",
       "      <td id=\"T_1816c_row11_col1\" class=\"data row11 col1\" >29.710466</td>\n",
       "      <td id=\"T_1816c_row11_col2\" class=\"data row11 col2\" >63rd St Station - MFL</td>\n",
       "      <td id=\"T_1816c_row11_col3\" class=\"data row11 col3\" >26.396539</td>\n",
       "      <td id=\"T_1816c_row11_col4\" class=\"data row11 col4\" >Baltimore Av & 44th St</td>\n",
       "    </tr>\n",
       "  </tbody>\n",
       "</table>\n"
      ],
      "text/plain": [
       "<pandas.io.formats.style.Styler at 0x18540dd0a90>"
      ]
     },
     "metadata": {},
     "output_type": "display_data"
    }
   ],
   "source": [
    "# Load the CSV file\n",
    "import pandas as pd\n",
    "extreme_temps_df = pd.read_csv('temperature_extremes.csv')\n",
    "\n",
    "# Display the extreme temperature DataFrame\n",
    "display(extreme_temps_df.style.set_caption(\"Table 1. Highest and Lowest Temperatures for Each Time Frame\").hide_index())"
   ]
  },
  {
   "cell_type": "markdown",
   "id": "0d92b5ed",
   "metadata": {},
   "source": [
    "To enhance the geospatial perspective, we created a map visualizing the average temperature at each stop.:\n",
    "\n",
    "![Fig 4. Bus Stops' Average Temperature](../images/AvgTempByStop.png)\n",
    "\n",
    "To examine more closely, we will display the temperature at each stop for each time frame."
   ]
  },
  {
   "cell_type": "code",
   "execution_count": 9,
   "id": "ccfad3ee",
   "metadata": {},
   "outputs": [
    {
     "data": {
      "text/html": [
       "\n",
       "        <iframe\n",
       "            width=\"100%\"\n",
       "            height=\"600\"\n",
       "            src=\"bus_stop_temperature_map.html\"\n",
       "            frameborder=\"0\"\n",
       "            allowfullscreen\n",
       "            \n",
       "        ></iframe>\n",
       "        "
      ],
      "text/plain": [
       "<IPython.lib.display.IFrame at 0x1853f119db0>"
      ]
     },
     "execution_count": 9,
     "metadata": {},
     "output_type": "execute_result"
    }
   ],
   "source": [
    "from IPython.display import IFrame\n",
    "\n",
    "# Path to the HTML file\n",
    "html_file = \"bus_stop_temperature_map.html\"\n",
    "\n",
    "# Display the HTML file\n",
    "IFrame(src=html_file, width='100%', height=600)"
   ]
  }
 ],
 "metadata": {
  "kernelspec": {
   "display_name": "musa-550-fall-2023",
   "language": "python",
   "name": "python3"
  },
  "language_info": {
   "codemirror_mode": {
    "name": "ipython",
    "version": 3
   },
   "file_extension": ".py",
   "mimetype": "text/x-python",
   "name": "python",
   "nbconvert_exporter": "python",
   "pygments_lexer": "ipython3",
   "version": "3.10.12"
  }
 },
 "nbformat": 4,
 "nbformat_minor": 5
}
