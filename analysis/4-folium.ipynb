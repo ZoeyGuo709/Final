{
 "cells": [
  {
   "cell_type": "markdown",
   "id": "b0b2a549-1b0b-405b-a536-36a45434eb9e",
   "metadata": {},
   "source": [
    "---\n",
    "format: \n",
    "  html:\n",
    "    toc: true\n",
    "execute:\n",
    "  echo: true\n",
    "---"
   ]
  },
  {
   "cell_type": "markdown",
   "id": "481530d3-4256-4271-b03a-97e86e37ea74",
   "metadata": {},
   "source": [
    "# OLS Analysis of Heat Stress: Socioeconomic and Built Form Relationships\n",
    "\n",
    "**1. Analyzing Heat Stress Around Bus Stops Using OLS**\n",
    "\n",
    "Using Ordinary Least Squares (OLS) to analyze the relationship between heat stress around bus stops and socioeconomic and built form factors.\n"
   ]
  },
  {
   "cell_type": "code",
   "execution_count": 2,
   "id": "f9d05f4a",
   "metadata": {},
   "outputs": [
    {
     "name": "stdout",
     "output_type": "stream",
     "text": [
      "                            OLS Regression Results                            \n",
      "==============================================================================\n",
      "Dep. Variable:                   MEAN   R-squared:                       0.715\n",
      "Model:                            OLS   Adj. R-squared:                  0.714\n",
      "Method:                 Least Squares   F-statistic:                     1355.\n",
      "Date:                Wed, 25 Dec 2024   Prob (F-statistic):               0.00\n",
      "Time:                        04:15:22   Log-Likelihood:                -1190.0\n",
      "No. Observations:                8126   AIC:                             2412.\n",
      "Df Residuals:                    8110   BIC:                             2524.\n",
      "Df Model:                          15                                         \n",
      "Covariance Type:            nonrobust                                         \n",
      "========================================================================================\n",
      "                           coef    std err          t      P>|t|      [0.025      0.975]\n",
      "----------------------------------------------------------------------------------------\n",
      "const                   37.6897      0.017   2210.031      0.000      37.656      37.723\n",
      "White_prop               0.2593      0.020     12.789      0.000       0.220       0.299\n",
      "Native_American_prop     3.4687      0.640      5.421      0.000       2.214       4.723\n",
      "Asian_prop              -0.4149      0.066     -6.302      0.000      -0.544      -0.286\n",
      "OtherRaces_prop         -0.5702      0.053    -10.663      0.000      -0.675      -0.465\n",
      "GI                      -0.1260      0.058     -2.155      0.031      -0.241      -0.011\n",
      "MR                   -7.342e-05   1.92e-05     -3.831      0.000      -0.000   -3.59e-05\n",
      "MHV                   -5.36e-07    4.9e-08    -10.931      0.000   -6.32e-07    -4.4e-07\n",
      "PD                    1.207e-05   1.54e-06      7.817      0.000    9.04e-06    1.51e-05\n",
      "PR                       0.5171      0.056      9.251      0.000       0.408       0.627\n",
      "CHR                     -0.1377      0.027     -5.039      0.000      -0.191      -0.084\n",
      "ED                       0.0732      0.027      2.670      0.008       0.019       0.127\n",
      "GVI                     -6.8951      0.114    -60.568      0.000      -7.118      -6.672\n",
      "BH                   -3.054e-05    3.3e-06     -9.256      0.000    -3.7e-05   -2.41e-05\n",
      "FAR                     -0.0379      0.001    -38.590      0.000      -0.040      -0.036\n",
      "Enclosure               -1.3142      0.118    -11.103      0.000      -1.546      -1.082\n",
      "==============================================================================\n",
      "Omnibus:                     5227.355   Durbin-Watson:                   0.972\n",
      "Prob(Omnibus):                  0.000   Jarque-Bera (JB):           177151.677\n",
      "Skew:                          -2.572   Prob(JB):                         0.00\n",
      "Kurtosis:                      25.288   Cond. No.                     4.84e+07\n",
      "==============================================================================\n",
      "\n",
      "Notes:\n",
      "[1] Standard Errors assume that the covariance matrix of the errors is correctly specified.\n",
      "[2] The condition number is large, 4.84e+07. This might indicate that there are\n",
      "strong multicollinearity or other numerical problems.\n",
      "\n",
      "Loaded VIF Results:\n",
      "                Variable        VIF\n",
      "0                  const  30.056540\n",
      "1             White_prop   3.476555\n",
      "2   Native_American_prop   1.098635\n",
      "3             Asian_prop   2.032977\n",
      "4        OtherRaces_prop   2.619529\n",
      "5                     GI   4.149072\n",
      "6                     MR   4.450124\n",
      "7                    MHV   4.645628\n",
      "8                     PD   3.159379\n",
      "9                     PR   4.989106\n",
      "10                   CHR   3.027447\n",
      "11                    ED   2.829961\n",
      "12                   GVI   2.994010\n",
      "13                    BH   2.430701\n",
      "14                   FAR   2.173048\n",
      "15             Enclosure   5.384361\n"
     ]
    }
   ],
   "source": [
    "import pickle\n",
    "import pandas as pd\n",
    "\n",
    "# File paths\n",
    "model_file_path = \"ols_model.pkl\"\n",
    "vif_file_path = \"vif_results.csv\"\n",
    "\n",
    "# Load the OLS model\n",
    "with open(model_file_path, \"rb\") as file:\n",
    "    loaded_model = pickle.load(file)\n",
    "\n",
    "# Load the VIF data\n",
    "loaded_vif_data = pd.read_csv(vif_file_path)\n",
    "\n",
    "# Print results\n",
    "print(loaded_model.summary())\n",
    "print(\"\\nLoaded VIF Results:\")\n",
    "print(loaded_vif_data)\n"
   ]
  },
  {
   "cell_type": "markdown",
   "id": "731e46f1",
   "metadata": {},
   "source": [
    "**2. Discussion of the results**\n",
    "\n",
    "- ***Model Fit***:\n",
    "The results indicate that the dependent variable mean temperature of bus stops is well-explained by the model, with an R-squared value of 0.715 and an adjusted R-squared of 0.714, meaning approximately 71.4% of the variation in mean temperature of bus stops is captured by the included independent variables. \n",
    "\n",
    "- ***Key Predictors***:\n",
    "The regression model reveals that socioeconomic, environmental, and built-environment factors significantly influence the mean temperature at bus stops. Socioeconomic factors such as the proportion of Native Americans show a strong positive relationship with bus stop temperatures (coefficient 3.4687), while higher proportions of Asian Americans and other racial groups are associated with lower temperatures. Higher poverty rates also correlate with elevated bus stop temperatures, reflecting disparities in environmental conditions.\n",
    "\n",
    "Environmental factors like the GINI Index (income inequality) and population density have smaller impacts, with higher population density contributing to slightly higher temperatures, likely due to urban heat island effects. Green space, represented by the Green View Index (GVI), has a strong cooling effect, with a significant negative coefficient (-6.8951), indicating that greenery plays a key role in reducing temperatures at bus stops.\n",
    "\n",
    "Built-environment features such as Floor Area Ratio (FAR) and enclosure also influence temperatures. Higher FAR (denser areas) slightly reduces temperatures, while enclosed areas significantly mitigate heat. These findings highlight the importance of urban design interventions, including increasing greenery and improving shading, to address elevated bus stop temperatures in densely populated or disadvantaged areas.\n",
    "\n",
    "- ***VIF***:\n",
    "The VIF values indicate that the model does not suffer from severe multicollinearity,"
   ]
  },
  {
   "cell_type": "markdown",
   "id": "f21baaf6",
   "metadata": {},
   "source": [
    "**3. Data Sources**\n",
    "\n",
    "The datasets used in this study encompass various high-resolution spatial and meteorological data, all of which correspond to the year of 2020. These include the bus stop data, 1-meter land-use map, LiDAR point cloud data, sidewalk map, building footprint map, meteorological data, google street view images and socioeconomic data which was collected from American Community Survey 5-year data of 2016–2020, providing a comprehensive basis for analyzing heat stress and its relationship with urban environment in Philadelphia.\n",
    "\n",
    "Bus stop data for July 2020 was obtained from the General Transit Feed Specification (GTFS) dataset provided by the SEPTA, accessed via TransitFeeds (https://transitfeeds.com/p/septa/263). This data includes detailed information on bus stop locations, routes, and schedules, essential for identifying specific bus stops and analyzing heat stress variation in the public transit system.\n",
    "\n",
    "The high-resolution land-use map, created semi-automatically using high-resolution aerial imagery and LiDAR data with an accuracy of approximately 90%, was sourced from Pennsylvania Spatial Data Access (PASDA) (https://www.pasda.psu.edu). \n",
    "\n",
    "Additionally, LiDAR point cloud data in the form of pre-processed x, y, and z files was acquired from the United States Geological Survey (USGS) 3D Elevation Program (https://usgs.entwine.io/). Using the open-source tool PDAL, the LiDAR point clouds were converted into a Digital Elevation Model (DEM) and a Digital Surface Model (DSM). The DSM, in conjunction with the land-use map, was used to derive the building height model and tree canopy height model for the study area.\n",
    "\n",
    "The sidewalk map for Philadelphia was sourced from the Delaware Valley Regional Planning Commission (DVRPC) (https://walk.dvrpc.org), allowing for a detailed assessment of pedestrian heat exposure in proximity to bus stops. \n",
    "\n",
    "Building footprint data was acquired from the City of Philadelphia (https://opendataphilly.org/datasets/building-footprints) with the building height attribute. \n",
    "\n",
    "Hourly meteorological data—including air temperature, humidity, global horizontal radiation, direct radiation, and diffuse radiation was gathered from the National Renewable Energy Laboratory (NREL) (https://nsrdb.nrel.gov), providing the necessary parameters to calculate heat stress using the Universal Thermal Climate Index (UTCI).\n",
    "\n",
    "Street view images have provided an opportunity to conduct various urban research with its wide coverage and accessibility (Biljecki & Ito, 2021). The data can be used to assess the street-level urban greenery (Li et al., 2015), quantifying street canyons (Gong et al., 2018), and measuring human perceptions (Ma et al., 2021; Zhao et al., 2023). To systematically gather this data, we established sampling points at 50-meter intervals along streets. Using the Google Maps API, we retrieved street view image identifiers (IDs) near each sampling point, which provided geographic coordinates and image capture dates. Considering the seasonal variations, we filtered the images to those taken during the spring and summer months of 2018 to 2020, resulting in a dataset of 178,826 unique panoramic images. These images were then processed using the Deeplabv3+ model (Chen et al., 2018a), a high-resolution image segmentation model trained on the Cityscape dataset (Cordts et al., 2016). This model allowed us to quantify urban elements—such as roads, sidewalks, buildings, trees, vehicles, and pedestrians, which allowed us to quantify the percentage of each urban element.\n"
   ]
  }
 ],
 "metadata": {
  "kernelspec": {
   "display_name": "musa-550-fall-2023",
   "language": "python",
   "name": "python3"
  },
  "language_info": {
   "codemirror_mode": {
    "name": "ipython",
    "version": 3
   },
   "file_extension": ".py",
   "mimetype": "text/x-python",
   "name": "python",
   "nbconvert_exporter": "python",
   "pygments_lexer": "ipython3",
   "version": "3.10.12"
  }
 },
 "nbformat": 4,
 "nbformat_minor": 5
}
