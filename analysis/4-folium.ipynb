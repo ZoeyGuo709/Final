{
 "cells": [
  {
   "cell_type": "markdown",
   "id": "b0b2a549-1b0b-405b-a536-36a45434eb9e",
   "metadata": {},
   "source": [
    "---\n",
    "format: \n",
    "  html:\n",
    "    toc: true\n",
    "execute:\n",
    "  echo: true\n",
    "---"
   ]
  },
  {
   "cell_type": "markdown",
   "id": "481530d3-4256-4271-b03a-97e86e37ea74",
   "metadata": {},
   "source": [
    "# OLS Analysis of Heat Stress: Socioeconomic and Built Form Relationships\n",
    "\n",
    "**1. Analyzing Heat Stress Around Bus Stops Using OLS**\n",
    "\n",
    "Using Ordinary Least Squares (OLS) to analyze the relationship between heat stress around bus stops and socioeconomic and built form factors. We adopt a 400-meter buffer area for each bus stop, establishing a standardized buffer that effectively captures the urban context surrounding each stop. This distance, widely recognized in transit research as a reasonable walking limit for bus commuters, allows for a meaningful representation of each stop’s immediate environment. Within this buffer, we calculate the weighted average values of all socioeconomic variables.\n",
    "\n"
   ]
  },
  {
   "cell_type": "markdown",
   "id": "d02d35e750bfbe12",
   "metadata": {
    "collapsed": false
   },
   "source": []
  },
  {
   "cell_type": "code",
   "execution_count": 2,
   "id": "f9d05f4a",
   "metadata": {},
   "outputs": [
    {
     "name": "stdout",
     "output_type": "stream",
     "text": [
      "                            OLS Regression Results                            \n",
      "==============================================================================\n",
      "Dep. Variable:                   MEAN   R-squared:                       0.715\n",
      "Model:                            OLS   Adj. R-squared:                  0.714\n",
      "Method:                 Least Squares   F-statistic:                     1355.\n",
      "Date:                Wed, 25 Dec 2024   Prob (F-statistic):               0.00\n",
      "Time:                        04:15:22   Log-Likelihood:                -1190.0\n",
      "No. Observations:                8126   AIC:                             2412.\n",
      "Df Residuals:                    8110   BIC:                             2524.\n",
      "Df Model:                          15                                         \n",
      "Covariance Type:            nonrobust                                         \n",
      "========================================================================================\n",
      "                           coef    std err          t      P>|t|      [0.025      0.975]\n",
      "----------------------------------------------------------------------------------------\n",
      "const                   37.6897      0.017   2210.031      0.000      37.656      37.723\n",
      "White_prop               0.2593      0.020     12.789      0.000       0.220       0.299\n",
      "Native_American_prop     3.4687      0.640      5.421      0.000       2.214       4.723\n",
      "Asian_prop              -0.4149      0.066     -6.302      0.000      -0.544      -0.286\n",
      "OtherRaces_prop         -0.5702      0.053    -10.663      0.000      -0.675      -0.465\n",
      "GI                      -0.1260      0.058     -2.155      0.031      -0.241      -0.011\n",
      "MR                   -7.342e-05   1.92e-05     -3.831      0.000      -0.000   -3.59e-05\n",
      "MHV                   -5.36e-07    4.9e-08    -10.931      0.000   -6.32e-07    -4.4e-07\n",
      "PD                    1.207e-05   1.54e-06      7.817      0.000    9.04e-06    1.51e-05\n",
      "PR                       0.5171      0.056      9.251      0.000       0.408       0.627\n",
      "CHR                     -0.1377      0.027     -5.039      0.000      -0.191      -0.084\n",
      "ED                       0.0732      0.027      2.670      0.008       0.019       0.127\n",
      "GVI                     -6.8951      0.114    -60.568      0.000      -7.118      -6.672\n",
      "BH                   -3.054e-05    3.3e-06     -9.256      0.000    -3.7e-05   -2.41e-05\n",
      "FAR                     -0.0379      0.001    -38.590      0.000      -0.040      -0.036\n",
      "Enclosure               -1.3142      0.118    -11.103      0.000      -1.546      -1.082\n",
      "==============================================================================\n",
      "Omnibus:                     5227.355   Durbin-Watson:                   0.972\n",
      "Prob(Omnibus):                  0.000   Jarque-Bera (JB):           177151.677\n",
      "Skew:                          -2.572   Prob(JB):                         0.00\n",
      "Kurtosis:                      25.288   Cond. No.                     4.84e+07\n",
      "==============================================================================\n",
      "\n",
      "Notes:\n",
      "[1] Standard Errors assume that the covariance matrix of the errors is correctly specified.\n",
      "[2] The condition number is large, 4.84e+07. This might indicate that there are\n",
      "strong multicollinearity or other numerical problems.\n",
      "\n",
      "Loaded VIF Results:\n",
      "                Variable        VIF\n",
      "0                  const  30.056540\n",
      "1             White_prop   3.476555\n",
      "2   Native_American_prop   1.098635\n",
      "3             Asian_prop   2.032977\n",
      "4        OtherRaces_prop   2.619529\n",
      "5                     GI   4.149072\n",
      "6                     MR   4.450124\n",
      "7                    MHV   4.645628\n",
      "8                     PD   3.159379\n",
      "9                     PR   4.989106\n",
      "10                   CHR   3.027447\n",
      "11                    ED   2.829961\n",
      "12                   GVI   2.994010\n",
      "13                    BH   2.430701\n",
      "14                   FAR   2.173048\n",
      "15             Enclosure   5.384361\n"
     ]
    }
   ],
   "source": [
    "import pickle\n",
    "import pandas as pd\n",
    "\n",
    "# File paths\n",
    "model_file_path = \"ols_model.pkl\"\n",
    "vif_file_path = \"vif_results.csv\"\n",
    "\n",
    "# Load the OLS model\n",
    "with open(model_file_path, \"rb\") as file:\n",
    "    loaded_model = pickle.load(file)\n",
    "\n",
    "# Load the VIF data\n",
    "loaded_vif_data = pd.read_csv(vif_file_path)\n",
    "\n",
    "# Print results\n",
    "print(loaded_model.summary())\n",
    "print(\"\\nLoaded VIF Results:\")\n",
    "print(loaded_vif_data)\n"
   ]
  },
  {
   "cell_type": "markdown",
   "id": "731e46f1",
   "metadata": {},
   "source": [
    "**2. Discussion of the results**\n",
    "\n",
    "- ***Model Fit***:\n",
    "The results indicate that the dependent variable mean temperature of bus stops is well-explained by the model, with an R-squared value of 0.715 and an adjusted R-squared of 0.714, meaning approximately 71.4% of the variation in mean temperature of bus stops is captured by the included independent variables. \n",
    "\n",
    "- ***Key Predictors***:\n",
    "The regression model reveals that socioeconomic, environmental, and built-environment factors significantly influence the mean temperature at bus stops. Socioeconomic factors such as the proportion of Native Americans show a strong positive relationship with bus stop temperatures (coefficient 3.4687), while higher proportions of Asian Americans and other racial groups are associated with lower temperatures. Higher poverty rates also correlate with elevated bus stop temperatures, reflecting disparities in environmental conditions.\n",
    "Environmental factors like the GINI Index (income inequality) and population density have smaller impacts, with higher population density contributing to slightly higher temperatures, likely due to urban heat island effects. Green space, represented by the Green View Index (GVI), has a strong cooling effect, with a significant negative coefficient (-6.8951), indicating that greenery plays a key role in reducing temperatures at bus stops.\n",
    "Built-environment features such as Floor Area Ratio (FAR) and enclosure also influence temperatures. Higher FAR (denser areas) slightly reduces temperatures, while enclosed areas significantly mitigate heat. These findings highlight the importance of urban design interventions, including increasing greenery and improving shading, to address elevated bus stop temperatures in densely populated or disadvantaged areas.\n",
    "\n",
    "- ***VIF***:\n",
    "The VIF values indicate that the model does not suffer from severe multicollinearity,"
   ]
  }
 ],
 "metadata": {
  "kernelspec": {
   "display_name": "musa-550-fall-2023",
   "language": "python",
   "name": "python3"
  },
  "language_info": {
   "codemirror_mode": {
    "name": "ipython",
    "version": 3
   },
   "file_extension": ".py",
   "mimetype": "text/x-python",
   "name": "python",
   "nbconvert_exporter": "python",
   "pygments_lexer": "ipython3",
   "version": "3.10.12"
  }
 },
 "nbformat": 4,
 "nbformat_minor": 5
}
