{
 "cells": [
  {
   "cell_type": "markdown",
   "id": "8d57ceb8-423f-4b70-9914-8826a01d1365",
   "metadata": {},
   "source": [
    "---\n",
    "format: \n",
    "  html:\n",
    "    toc: true\n",
    "execute:\n",
    "  echo: true\n",
    "---"
   ]
  },
  {
   "cell_type": "markdown",
   "id": "3fa76e04-679f-4edc-a7ea-437dd749e986",
   "metadata": {},
   "source": [
    "# Bus Stop Heat Stress\n",
    "1. Mid-day bus stops heat stress\n",
    "2. in this time frame, which stop has the highest value, temp range, avg \n"
   ]
  }
 ],
 "metadata": {
  "kernelspec": {
   "display_name": "musa-550-fall-2023",
   "language": "python",
   "name": "python3"
  },
  "language_info": {
   "codemirror_mode": {
    "name": "ipython",
    "version": 3
   },
   "file_extension": ".py",
   "mimetype": "text/x-python",
   "name": "python",
   "nbconvert_exporter": "python",
   "pygments_lexer": "ipython3",
   "version": "3.10.12"
  }
 },
 "nbformat": 4,
 "nbformat_minor": 5
}
