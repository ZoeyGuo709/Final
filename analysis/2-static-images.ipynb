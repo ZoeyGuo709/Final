{
 "cells": [
  {
   "cell_type": "markdown",
   "id": "8d57ceb8-423f-4b70-9914-8826a01d1365",
   "metadata": {},
   "source": [
    "---\n",
    "format: \n",
    "  html:\n",
    "    toc: true\n",
    "execute:\n",
    "  echo: true\n",
    "---"
   ]
  },
  {
   "cell_type": "markdown",
   "id": "3fa76e04-679f-4edc-a7ea-437dd749e986",
   "metadata": {},
   "source": [
    "# Bus Stop Heat Stress\n",
    "\n",
    "Based on our analysis of heat stress throughout the day in Philadelphia, we observed that mid-day, specifically 1:00 PM, experiences the highest temperatures, resulting in severe heat stress. Therefore, we aim to focus our study on this time frame to examine the general heat stress patterns and the spatial distribution of heat stress around bus stops.\n",
    "\n",
    "1. **Mid-day bus stops heat stress**\n",
    "First, we plotted the mid day bus stops temperature of a day:\n",
    "![Fig 1. Mid-day Bus Stops Temperature Map](../images/Mid-Day.png)\n",
    "\n",
    "We observed that most bus stops are located in areas with very high temperatures, ranging between 37–38°C. Only a few bus stops are in areas below 35°C, with almost none below 33°C, indicating severe heat stress at the majority of bus stops. The relatively cooler bus stops are primarily concentrated in Center City, with a few scattered across the northwest and parts of the northeast regions.\n",
    "\n",
    "2. **Hottest and Coldest 10%**\n",
    "\n",
    "After examining the overall heat stress patterns of all bus stops during mid-day in Philadelphia, we became curious about the locations of the hottest and coldest bus stops. To explore this, we plotted the top 10% hottest and coldest bus stops.\n",
    "\n",
    "![Fig 2. Mid-day Hottest 10% Bus Stops](../images/Hot10.png)\n",
    "\n",
    "Upon reviewing the data, we observed that the hottest 10% of bus stops are primarily located in the northern, northeastern, and southern parts of the city.\n",
    "\n",
    "![Fig 3. Mid-day Coldest 10% Bus Stops](../images/Cold10.png)\n",
    "\n",
    "When examining the coldest bus stops, we found that most are located in Center City, the northwestern area, and the far northeast.\n",
    "\n",
    "3. **Clustering**\n",
    "\n",
    "We are curious if the Hottest and Coldest 10% bus stops are spatially clusterd, Here we are using DBSCAN to identfy the clustering\n",
    "\n",
    "![Fig 4. Hottest 10% Bus Stops Clustering](../images/cluster.png)\n",
    "\n",
    "![Fig 5. Coldest 10% Bus Stops Clustering](../images/cluster2.png)\n",
    "\n",
    "\n"
   ]
  }
 ],
 "metadata": {
  "kernelspec": {
   "display_name": "musa-550-fall-2023",
   "language": "python",
   "name": "python3"
  },
  "language_info": {
   "codemirror_mode": {
    "name": "ipython",
    "version": 3
   },
   "file_extension": ".py",
   "mimetype": "text/x-python",
   "name": "python",
   "nbconvert_exporter": "python",
   "pygments_lexer": "ipython3",
   "version": "3.10.12"
  }
 },
 "nbformat": 4,
 "nbformat_minor": 5
}
