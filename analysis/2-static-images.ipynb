{
 "cells": [
  {
   "cell_type": "markdown",
   "id": "8d57ceb8-423f-4b70-9914-8826a01d1365",
   "metadata": {},
   "source": [
    "---\n",
    "format: \n",
    "  html:\n",
    "    toc: true\n",
    "execute:\n",
    "  echo: true\n",
    "---"
   ]
  },
  {
   "cell_type": "markdown",
   "id": "3fa76e04-679f-4edc-a7ea-437dd749e986",
   "metadata": {},
   "source": [
    "# Bus Stop Heat Stress\n",
    "\n",
    "Based on our analysis of heat stress throughout the day in Philadelphia, we observed that mid-day, specifically 1:00 PM, experiences the highest temperatures, resulting in severe heat stress. Therefore, we aim to focus our study on this time frame to examine the general heat stress patterns and the spatial distribution of heat stress around bus stops.\n",
    "\n",
    "1. **Mid-day bus stops heat stress**\n",
    "First, we plotted the mid day bus stops temperature of a day:\n",
    "![Fig 1. Mid-day Bus Stops Temperature Map](../images/Mid-Day.png)\n",
    "\n",
    "We observed that most bus stops are located in areas with very high temperatures, ranging between 37–38°C. Only a few bus stops are in areas below 35°C, with almost none below 33°C, indicating severe heat stress at the majority of bus stops. The relatively cooler bus stops are primarily concentrated in Center City, with a few scattered across the northwest and parts of the northeast regions.\n",
    "\n",
    "2. **Hottest and Coldest 10%**\n",
    "\n",
    "After examining the overall heat stress patterns of all bus stops during mid-day in Philadelphia, we became curious about the locations of the hottest and coldest bus stops. To explore this, we plotted the top 10% hottest and coldest bus stops.\n",
    "\n",
    "![Fig 2. Mid-day Hottest 10% Bus Stops](../images/Hot10.png)\n",
    "\n",
    "Upon reviewing the data, we observed that the hottest 10% of bus stops are primarily located in the northern, northeastern, and southern parts of the city.\n",
    "\n",
    "![Fig 3. Mid-day Coldest 10% Bus Stops](../images/Cold10.png)\n",
    "\n",
    "When examining the coldest bus stops, we found that most are located in Center City, the northwestern area, and the far northeast.\n",
    "\n",
    "3. **Clustering**\n",
    "\n",
    "We are interested in determining whether the hottest and coldest 10% of bus stops are spatially clustered. To investigate this, we use DBSCAN to identify potential clusters.\n",
    "\n",
    "![Fig 4. Hottest 10% Bus Stops Clustering](../images/cluster.png)\n",
    "As shown in Fig. 4, the hottest 10% of bus stops form several small clusters. These clusters are primarily concentrated in the Frankford area, along Roosevelt Boulevard in northeastern Philadelphia, and in the southern part of the city along Christopher Columbus Boulevard.\n",
    "\n",
    "![Fig 5. Coldest 10% Bus Stops Clustering](../images/cluster2.png)\n",
    "As shown in Fig. 5, the coldest 10% of bus stops exhibit a clear clustering pattern in the Center City area, including neighborhoods such as Rittenhouse Square and Logan Square. Additional clusters are present in the northwestern part of the city, including Mt. Airy and Northwest Philadelphia.\n",
    "\n",
    "\n",
    "4. **Spatial Autocorrelation**\n",
    "Here we want to look at all the stops together, to see if specific spatial relationships (clusters or outliers) exist between bus stop temperatures and their neighboring stops.\n",
    "\n",
    "![Fig 6. Bus Stops Temperatures Spatial Autocorrelation](../images/autocorrelation.png)\n",
    "- High-High Area: \n",
    "Hotspots or clusters of high temperatures are likely the result of urban heat islands or a lack of cooling infrastructure, such as shade or vegetation. These areas, predominantly in the northern, southern, and western parts of the city, may benefit from interventions like installing shade structures or using reflective materials to help reduce heat levels.\n",
    "- High-Low Area:\n",
    "Bus stops with high temperatures surrounded by bus stops with lower temperatures may indicate outliers caused by localized heat effects, such as a lack of shade, excessive asphalt coverage, or dense infrastructure. These anomalies warrant further investigation to identify the specific conditions contributing to elevated temperatures. Such patterns are predominantly observed in the northern and northeastern areas of the city.\n",
    "- Low-Low Area:\n",
    "Bus stops with low temperatures surrounded by other low-temperature stops indicate cold spots, likely due to natural cooling effects such as proximity to green spaces, water bodies, or less dense infrastructure. While these areas may not require immediate intervention, they offer valuable insights into effective cooling mechanisms that can be replicated in hotter regions. These patterns are primarily observed in Center City, the northwestern areas, and the far northeast, aligning with our analysis of the coldest 10% of bus stops.\n",
    "- Low-High Area:\n",
    "Bus stops with low temperatures surrounded by bus stops with higher temperatures suggest outliers, likely caused by localized cooling effects such as shade trees, reflective surfaces, or proximity to cooling infrastructure. These areas offer opportunities to study and replicate effective cooling strategies in hotter zones. They are predominantly located on the outskirts of cold spot areas.\n",
    "\n"
   ]
  }
 ],
 "metadata": {
  "kernelspec": {
   "display_name": "musa-550-fall-2023",
   "language": "python",
   "name": "python3"
  },
  "language_info": {
   "codemirror_mode": {
    "name": "ipython",
    "version": 3
   },
   "file_extension": ".py",
   "mimetype": "text/x-python",
   "name": "python",
   "nbconvert_exporter": "python",
   "pygments_lexer": "ipython3",
   "version": "3.10.12"
  }
 },
 "nbformat": 4,
 "nbformat_minor": 5
}
