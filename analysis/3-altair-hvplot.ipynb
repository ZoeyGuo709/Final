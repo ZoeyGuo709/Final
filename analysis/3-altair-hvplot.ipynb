{
 "cells": [
  {
   "cell_type": "markdown",
   "id": "b0b2a549-1b0b-405b-a536-36a45434eb9e",
   "metadata": {},
   "source": [
    "---\n",
    "format: \n",
    "  html:\n",
    "    toc: false\n",
    "    page-layout: full\n",
    "execute:\n",
    "    echo: false\n",
    "---"
   ]
  },
  {
   "cell_type": "markdown",
   "id": "481530d3-4256-4271-b03a-97e86e37ea74",
   "metadata": {},
   "source": [
    "# Explore integration with Socio-Ecological & Built Form\n",
    "\n",
    "To further understand the correlation between heat stress and various urban factors, we have identified multiple categories of contributing variables, including socioeconomic, demographic, and built environment factors. These factors provide valuable insights into how heat stress is distributed across urban areas and help guide strategies to mitigate its effects. By examining these variables comprehensively, we aim to identify areas of concern and develop actionable interventions to improve the thermal comfort and overall well-being of urban residents.\n",
    "\n",
    "\n",
    "**1. Wrangle data from ACS and Building Footprint**\n",
    "\n",
    "![Fig 1. Urban Environment Variables](../images/DataDictionary.jpg)\n",
    "\n",
    "The variables listed in the table can significantly influence the temperatures and heat stress experienced at bus stops, both directly and indirectly. Socioeconomic factors like population density (PD) often correlate with the urban heat island (UHI) effect, where areas with higher population densities experience elevated temperatures due to increased human activity, heat emissions, and reduced vegetation. Bus stops in such high-density areas are likely to experience more intense heat stress, particularly during peak usage times. Moreover, socioeconomic indicators like median household income (MHI) and poverty rate (PR) play an important role, as wealthier neighborhoods may feature better infrastructure such as shaded or air-conditioned bus stops, while lower-income areas often lack such amenities, increasing exposure to heat.\n",
    "\n",
    "Ethnic diversity and racial composition (e.g., White_prop, African_prop, Asian_prop) may also influence exposure to heat stress at bus stops. Communities with higher socioeconomic challenges may experience disparities in urban design, such as insufficient tree cover or shading. Similarly, variables like unemployment rate (UR) and car holding rate (CHR) can indirectly impact heat stress. For instance, areas with lower car ownership may rely more on public transit, leading to higher pedestrian traffic at bus stops, which exacerbates heat exposure during peak periods.\n",
    "\n",
    "The built environment plays a critical role in determining heat stress at bus stops. Factors such as building number (BN), building density (BD), and floor area ratio (FAR) are directly tied to the urban heat island effect, where dense building areas trap heat and retain it, increasing temperatures. Building height (BH) has a mixed influence—it can create shaded areas during certain times of the day, reducing heat stress, but may also limit airflow and contribute to localized temperature increases. On the other hand, the green view index (GVI) is particularly beneficial in mitigating heat stress, as higher vegetation cover lowers local temperatures through shading and evapotranspiration.\n",
    "\n",
    "Enclosure values also affect thermal comfort, as areas with higher enclosure may limit airflow and trap heat, exacerbating heat stress at bus stops. Open spaces with sufficient ventilation, on the other hand, reduce perceived heat and improve comfort. Urban design that incorporates green infrastructure, such as trees and shaded structures, can significantly mitigate the effects of heat stress. By analyzing these variables together, planners can identify areas in need of interventions like tree planting, bus shelter installation, or reflective materials to reduce the risks associated with high temperatures and improve thermal comfort for bus stop users.\n",
    "\n",
    "**2. Visualize the ACS and Building footprint data**\n",
    "\n",
    "\n"
   ]
  }
 ],
 "metadata": {
  "kernelspec": {
   "display_name": "musa-550-fall-2023",
   "language": "python",
   "name": "python3"
  },
  "language_info": {
   "codemirror_mode": {
    "name": "ipython",
    "version": 3
   },
   "file_extension": ".py",
   "mimetype": "text/x-python",
   "name": "python",
   "nbconvert_exporter": "python",
   "pygments_lexer": "ipython3",
   "version": "3.10.12"
  }
 },
 "nbformat": 4,
 "nbformat_minor": 5
}
