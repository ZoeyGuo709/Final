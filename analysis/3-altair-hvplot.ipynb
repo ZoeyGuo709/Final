{
 "cells": [
  {
   "cell_type": "markdown",
   "id": "b0b2a549-1b0b-405b-a536-36a45434eb9e",
   "metadata": {},
   "source": [
    "---\n",
    "format: \n",
    "  html:\n",
    "    toc: false\n",
    "    page-layout: full\n",
    "execute:\n",
    "    echo: false\n",
    "---"
   ]
  },
  {
   "cell_type": "markdown",
   "id": "481530d3-4256-4271-b03a-97e86e37ea74",
   "metadata": {},
   "source": [
    "# Explore integration with SocioEconomics & Built Environment\n",
    "\n",
    "To further understand the correlation between heat stress and various urban factors, we have identified multiple categories of contributing variables, including socioeconomic, demographic, and built environment factors. These factors provide valuable insights into how heat stress is distributed across urban areas and help guide strategies to mitigate its effects. By examining these variables comprehensively, we aim to identify areas of concern and develop actionable interventions to improve the thermal comfort and overall well-being of urban residents.\n",
    "\n",
    "\n",
    "**1. Wrangle data from ACS, Building Footprint, and Google Street View Images**\n",
    "\n",
    "![Fig 1. Urban Environment Variables](../images/DataDictionary.jpg)\n",
    "\n",
    "The variables listed in the table can significantly influence the temperatures and heat stress experienced at bus stops, both directly and indirectly. Socioeconomic factors like population density (PD) often correlate with the urban heat island (UHI) effect, where areas with higher population densities experience elevated temperatures due to increased human activity, heat emissions, and reduced vegetation. Bus stops in such high-density areas are likely to experience more intense heat stress, particularly during peak usage times. Moreover, socioeconomic indicators like median household income (MHI) and poverty rate (PR) play an important role, as wealthier neighborhoods may feature better infrastructure such as shaded or air-conditioned bus stops, while lower-income areas often lack such amenities, increasing exposure to heat.\n",
    "\n",
    "Ethnic diversity and racial composition (e.g., White_prop, African_prop, Asian_prop) may also influence exposure to heat stress at bus stops. Communities with higher socioeconomic challenges may experience disparities in urban design, such as insufficient tree cover or shading. Similarly, variables like unemployment rate (UR) and car holding rate (CHR) can indirectly impact heat stress. For instance, areas with lower car ownership may rely more on public transit, leading to higher pedestrian traffic at bus stops, which exacerbates heat exposure during peak periods.\n",
    "\n",
    "The built environment plays a critical role in determining heat stress at bus stops. Factors such as building number (BN), building density (BD), and floor area ratio (FAR) are directly tied to the urban heat island effect, where dense building areas trap heat and retain it, increasing temperatures. Building height (BH) has a mixed influence—it can create shaded areas during certain times of the day, reducing heat stress, but may also limit airflow and contribute to localized temperature increases. On the other hand, the green view index (GVI) is particularly beneficial in mitigating heat stress, as higher vegetation cover lowers local temperatures through shading and evapotranspiration.\n",
    "\n",
    "Enclosure values also affect thermal comfort, as areas with higher enclosure may limit airflow and trap heat, exacerbating heat stress at bus stops. Open spaces with sufficient ventilation, on the other hand, reduce perceived heat and improve comfort. Urban design that incorporates green infrastructure, such as trees and shaded structures, can significantly mitigate the effects of heat stress. By analyzing these variables together, planners can identify areas in need of interventions like tree planting, bus shelter installation, or reflective materials to reduce the risks associated with high temperatures and improve thermal comfort for bus stop users.\n",
    "\n",
    "**2. Data Sources**:\n",
    "\n",
    "The datasets used in this study encompass various high-resolution spatial and meteorological data, all of which correspond to the year of 2020. These include the bus stop data, 1-meter land-use map, LiDAR point cloud data, sidewalk map, building footprint map, meteorological data, google street view images and socioeconomic data which was collected from American Community Survey 5-year data of 2016–2020, providing a comprehensive basis for analyzing heat stress and its relationship with urban environment in Philadelphia.\n",
    "\n",
    "Bus stop data for July 2020 was obtained from the General Transit Feed Specification (GTFS) dataset provided by the SEPTA, accessed via TransitFeeds (https://transitfeeds.com/p/septa/263). This data includes detailed information on bus stop locations, routes, and schedules, essential for identifying specific bus stops and analyzing heat stress variation in the public transit system.\n",
    "\n",
    "The high-resolution land-use map, created semi-automatically using high-resolution aerial imagery and LiDAR data with an accuracy of approximately 90%, was sourced from Pennsylvania Spatial Data Access (PASDA) (https://www.pasda.psu.edu). \n",
    "\n",
    "Additionally, LiDAR point cloud data in the form of pre-processed x, y, and z files was acquired from the United States Geological Survey (USGS) 3D Elevation Program (https://usgs.entwine.io/). Using the open-source tool PDAL, the LiDAR point clouds were converted into a Digital Elevation Model (DEM) and a Digital Surface Model (DSM). The DSM, in conjunction with the land-use map, was used to derive the building height model and tree canopy height model for the study area.\n",
    "\n",
    "The sidewalk map for Philadelphia was sourced from the Delaware Valley Regional Planning Commission (DVRPC) (https://walk.dvrpc.org), allowing for a detailed assessment of pedestrian heat exposure in proximity to bus stops. \n",
    "\n",
    "Building footprint data was acquired from the City of Philadelphia (https://opendataphilly.org/datasets/building-footprints) with the building height attribute. \n",
    "\n",
    "Hourly meteorological data—including air temperature, humidity, global horizontal radiation, direct radiation, and diffuse radiation was gathered from the National Renewable Energy Laboratory (NREL) (https://nsrdb.nrel.gov), providing the necessary parameters to calculate heat stress using the Universal Thermal Climate Index (UTCI).\n",
    "\n",
    "Street view images have provided an opportunity to conduct various urban research with its wide coverage and accessibility (Biljecki & Ito, 2021). The data can be used to assess the street-level urban greenery (Li et al., 2015), quantifying street canyons (Gong et al., 2018), and measuring human perceptions (Ma et al., 2021; Zhao et al., 2023). To systematically gather this data, we established sampling points at 50-meter intervals along streets. Using the Google Maps API, we retrieved street view image identifiers (IDs) near each sampling point, which provided geographic coordinates and image capture dates. Considering the seasonal variations, we filtered the images to those taken during the spring and summer months of 2018 to 2020, resulting in a dataset of 178,826 unique panoramic images. These images were then processed using the Deeplabv3+ model (Chen et al., 2018a), a high-resolution image segmentation model trained on the Cityscape dataset (Cordts et al., 2016). This model allowed us to quantify urban elements—such as roads, sidewalks, buildings, trees, vehicles, and pedestrians, which allowed us to quantify the percentage of each urban element.\n",
    "\n",
    "\n",
    "**3. Visualize the ACS and Building Form data**:\n",
    "\n",
    "To analyze the ACS data and building forms around bus stops, we selected several key factors for visualization.\n",
    "\n",
    "![Fig 2. Socio-Economics Selected Variables](../images/Socio-Economic.png)\n",
    "\n",
    "In terms of population density, Center City and the southern parts of the city have the highest density, while West Philadelphia, North Philadelphia, and the Frankford area also exhibit relatively high densities. Regarding ethnic diversity, Northeastern Philadelphia stands out as the most diverse. For poverty rates, North Philadelphia and the Upper West Philadelphia area have the highest levels of poverty.\n",
    "\n",
    "![Fig 3. Built Form Selected Variables](../images/BuiltForm.png)\n",
    "\n",
    "Building density is relatively high in most of Center City and South Philadelphia, aligning closely with population density patterns. Center City also features the highest Floor Area Ratio (FAR). Additionally, areas with higher Green View Index (GVI) are typically concentrated near green spaces, particularly along Wissahickon Valley Park.\n",
    "\n",
    "\n"
   ]
  }
 ],
 "metadata": {
  "kernelspec": {
   "display_name": "musa-550-fall-2023",
   "language": "python",
   "name": "python3"
  },
  "language_info": {
   "codemirror_mode": {
    "name": "ipython",
    "version": 3
   },
   "file_extension": ".py",
   "mimetype": "text/x-python",
   "name": "python",
   "nbconvert_exporter": "python",
   "pygments_lexer": "ipython3",
   "version": "3.10.12"
  }
 },
 "nbformat": 4,
 "nbformat_minor": 5
}
